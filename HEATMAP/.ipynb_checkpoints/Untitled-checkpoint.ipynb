{
 "cells": [
  {
   "cell_type": "code",
   "execution_count": 5,
   "id": "bf0a9588",
   "metadata": {},
   "outputs": [],
   "source": [
    "import seaborn as sns"
   ]
  },
  {
   "cell_type": "code",
   "execution_count": 6,
   "id": "a7e6ab73",
   "metadata": {},
   "outputs": [
    {
     "data": {
      "text/plain": [
       "'3.9.10 (main, Feb  6 2022, 22:24:31) \\n[Clang 10.0.1 (clang-1001.0.46.4)]'"
      ]
     },
     "execution_count": 6,
     "metadata": {},
     "output_type": "execute_result"
    }
   ],
   "source": [
    "import sys\n",
    "sys.version "
   ]
  },
  {
   "cell_type": "code",
   "execution_count": null,
   "id": "9972ef88",
   "metadata": {},
   "outputs": [],
   "source": [
    "import pandas as pd\n",
    "\n",
    "df = pd.read_csv('three_cols.csv', index_col=3, parse_dates=True)\n",
    "df2 = pd.pivot_table(df, values='Time_work', columns=['Tasks_number'], index=\"Proc_number\")\n",
    "df2.to_csv('EB_CUT.csv')"
   ]
  }
 ],
 "metadata": {
  "kernelspec": {
   "display_name": "Python 3 (ipykernel)",
   "language": "python",
   "name": "python3"
  },
  "language_info": {
   "codemirror_mode": {
    "name": "ipython",
    "version": 3
   },
   "file_extension": ".py",
   "mimetype": "text/x-python",
   "name": "python",
   "nbconvert_exporter": "python",
   "pygments_lexer": "ipython3",
   "version": "3.9.10"
  }
 },
 "nbformat": 4,
 "nbformat_minor": 5
}
